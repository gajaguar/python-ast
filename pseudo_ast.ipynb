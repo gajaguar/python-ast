{
 "cells": [
  {
   "attachments": {},
   "cell_type": "markdown",
   "metadata": {},
   "source": [
    "# Pseudo AST generator\n"
   ]
  },
  {
   "cell_type": "code",
   "execution_count": null,
   "metadata": {},
   "outputs": [],
   "source": [
    "class Node:\n",
    "    def __init__(self, value):\n",
    "        self.value = value\n",
    "        self.left = None\n",
    "        self.right = None\n"
   ]
  },
  {
   "cell_type": "code",
   "execution_count": null,
   "metadata": {},
   "outputs": [],
   "source": [
    "def parse_formula(formula):\n",
    "    precedence = {'+': 1, '-': 1, '*': 2, '/': 2, '=': 3}\n",
    "    stack = []\n",
    "    i = 0\n",
    "\n",
    "    while i < len(formula):\n",
    "        if formula[i] in ' \\t':\n",
    "            i += 1\n",
    "        elif formula[i] in precedence:\n",
    "            while (stack and isinstance(stack[-1], Node) and\n",
    "                   precedence[formula[i]] <= precedence[stack[-1].value]):\n",
    "                node = stack.pop()\n",
    "                node.right = stack.pop()\n",
    "                if stack and isinstance(stack[-1], Node):\n",
    "                    stack[-1].left = node\n",
    "            stack.append(Node(formula[i]))\n",
    "            i += 1\n",
    "        else:\n",
    "            j = i\n",
    "            while j < len(formula) and formula[j] not in precedence and formula[j] not in ' \\t':\n",
    "                j += 1\n",
    "            stack.append(formula[i:j])\n",
    "            i = j\n",
    "\n",
    "    while len(stack) > 1:\n",
    "        node = stack.pop()\n",
    "        node.right = stack.pop()\n",
    "        if stack:\n",
    "            stack[-1].left = node\n",
    "\n",
    "    return stack[0]\n"
   ]
  }
 ],
 "metadata": {
  "language_info": {
   "name": "python"
  },
  "orig_nbformat": 4
 },
 "nbformat": 4,
 "nbformat_minor": 2
}
