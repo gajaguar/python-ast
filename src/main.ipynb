{
 "cells": [
  {
   "attachments": {},
   "cell_type": "markdown",
   "metadata": {},
   "source": [
    "## Dependencies"
   ]
  },
  {
   "cell_type": "code",
   "execution_count": 1,
   "metadata": {},
   "outputs": [],
   "source": [
    "from ast import Add\n",
    "from ast import Assign\n",
    "from ast import BinOp\n",
    "from ast import Call\n",
    "from ast import Constant\n",
    "from ast import Div\n",
    "from ast import dump\n",
    "from ast import Expr\n",
    "from ast import fix_missing_locations\n",
    "from ast import Load\n",
    "from ast import Module\n",
    "from ast import Mult\n",
    "from ast import Name\n",
    "from ast import Not\n",
    "from ast import operator\n",
    "from ast import parse\n",
    "from ast import stmt\n",
    "from ast import Store\n",
    "from ast import Sub\n",
    "from ast import UnaryOp\n",
    "from dis import dis\n",
    "from dis import show_code\n",
    "from typing import Callable\n"
   ]
  },
  {
   "attachments": {},
   "cell_type": "markdown",
   "metadata": {},
   "source": [
    "## Basic implementation\n"
   ]
  },
  {
   "cell_type": "code",
   "execution_count": 2,
   "metadata": {},
   "outputs": [
    {
     "name": "stdout",
     "output_type": "stream",
     "text": [
      "  0           0 RESUME                   0\n",
      "\n",
      "  2           2 LOAD_CONST               0 (0)\n",
      "              4 STORE_NAME               0 (a)\n",
      "              6 LOAD_CONST               1 (None)\n",
      "              8 RETURN_VALUE\n",
      "---\n",
      "Name:              <module>\n",
      "Filename:          <string>\n",
      "Argument count:    0\n",
      "Positional-only arguments: 0\n",
      "Kw-only arguments: 0\n",
      "Number of locals:  0\n",
      "Stack size:        1\n",
      "Flags:             0x0\n",
      "Constants:\n",
      "   0: 0\n",
      "   1: None\n",
      "Names:\n",
      "   0: a\n"
     ]
    }
   ],
   "source": [
    "source = \"\"\"\n",
    "a = 0\n",
    "\"\"\"\n",
    "\n",
    "node = parse(source, mode=\"exec\")\n",
    "dump(node)\n",
    "\n",
    "compiled = compile(node, \"<string>\", mode=\"exec\")\n",
    "# exec(compiled)\n",
    "\n",
    "dis(compiled)\n",
    "print(\"---\")\n",
    "show_code(compiled)\n"
   ]
  },
  {
   "attachments": {},
   "cell_type": "markdown",
   "metadata": {},
   "source": [
    "## Laboratory\n"
   ]
  },
  {
   "attachments": {},
   "cell_type": "markdown",
   "metadata": {},
   "source": [
    "### Helpers"
   ]
  },
  {
   "cell_type": "code",
   "execution_count": 3,
   "metadata": {},
   "outputs": [],
   "source": [
    "OPERATOR_MAP = {\n",
    "    \"=\": Assign,  # Has a different behavior\n",
    "    \"*\": Mult,\n",
    "    \"/\": Div,\n",
    "    \"+\": Add,\n",
    "    \"-\": Sub,\n",
    "    \"not\": Not,\n",
    "}\n"
   ]
  },
  {
   "cell_type": "code",
   "execution_count": 4,
   "metadata": {},
   "outputs": [],
   "source": [
    "def get_operator(symbol: str) -> operator:\n",
    "    \"\"\"Retrieves an operator function from a map based on the provided symbol.\"\"\"\n",
    "\n",
    "    try:\n",
    "        return OPERATOR_MAP[symbol]\n",
    "    except KeyError as exception:\n",
    "        raise ValueError(f\"Unsupported operator: {operator}\") from exception\n",
    "\n",
    "\n",
    "def get_value(value: str | int) -> str | int:\n",
    "    \"\"\"Attempts to convert the input to an integer. If the conversion fails, the original input is returned.\"\"\"\n",
    "\n",
    "    try:\n",
    "        return int(value)\n",
    "    except ValueError:\n",
    "        return value\n",
    "    \n",
    "\n",
    "def is_valid_line(line: str) -> bool:\n",
    "    \"\"\"Determines if a line of code is valid (i.e., not empty and not a comment).\"\"\"\n",
    "\n",
    "    return line.strip() and not line.strip().startswith(\"#\")"
   ]
  },
  {
   "attachments": {},
   "cell_type": "markdown",
   "metadata": {},
   "source": [
    "### Functions"
   ]
  },
  {
   "cell_type": "code",
   "execution_count": 5,
   "metadata": {},
   "outputs": [],
   "source": [
    "def build_print_operation(operand: str | int) -> Expr:\n",
    "    operand = get_value(operand)\n",
    "    if isinstance(operand, str):\n",
    "        args = [Name(id=operand, ctx=Load())]\n",
    "    elif isinstance(operand, int):\n",
    "        args = [Constant(value=operand)]\n",
    "    else:\n",
    "        raise TypeError(\"Only str and int types are supported\")\n",
    "    return Expr(value=Call(func=Name(id='print', ctx=Load()), args=args, keywords=[]))\n",
    "\n",
    "\n",
    "def build_unary_operation(operator: str, operand: str) -> Expr:\n",
    "    operator = get_operator(operator)\n",
    "    operand = Name(id=operand, ctx=Load())\n",
    "    binop = UnaryOp(op=operator(), operand=operand)\n",
    "    return Expr(value=binop)\n",
    "\n",
    "\n",
    "def build_binary_operation(operand_1: str, operator: str, operand_2: str) -> Expr:\n",
    "    operand_1 = Name(id=operand_1, ctx=Load())\n",
    "    operand_2 = Name(id=operand_2, ctx=Load())\n",
    "    operator = get_operator(operator)\n",
    "    binop = BinOp(left=operand_1, op=operator(), right=operand_2)\n",
    "    return Expr(value=binop)\n",
    "\n",
    "\n",
    "def build_assignation_operation(targets: list[str], value: int | str | stmt) -> Assign:\n",
    "    targets = [Name(id=target.strip(), ctx=Store()) for target in targets]\n",
    "    if isinstance(value, (int, str)):\n",
    "        value = Constant(value=value)\n",
    "        return Assign(targets=targets, value=value)\n",
    "    return Assign(targets=targets, value=value)\n"
   ]
  },
  {
   "cell_type": "code",
   "execution_count": 6,
   "metadata": {},
   "outputs": [],
   "source": [
    "\n",
    "def get_operation_generator(terms: int) -> Callable:\n",
    "    function_map = {\n",
    "        \"1\": build_print_operation,\n",
    "        \"2\": build_unary_operation,\n",
    "        \"3\": build_binary_operation,\n",
    "    }\n",
    "    try:\n",
    "        return function_map[str(terms)]\n",
    "    except KeyError as exception:\n",
    "        raise ValueError(f\"Unsupported number of terms\") from exception\n"
   ]
  },
  {
   "cell_type": "code",
   "execution_count": 7,
   "metadata": {},
   "outputs": [],
   "source": [
    "def get_line_expression(raw_expression: str, is_assignment: bool = False) -> stmt:\n",
    "    # if \"=\" in raw_expression:  # check if the expression is an assignment\n",
    "    #     targets_str, value_str = raw_expression.split(\"=\")\n",
    "    #     targets = targets_str.split(\",\")\n",
    "    #     value = get_line_expression(value_str, is_assignment=True)\n",
    "    #     return build_assignation_operation(targets, value)\n",
    "\n",
    "    # terms = raw_expression.split()\n",
    "    # num_terms = len(terms)\n",
    "    # if is_assignment and num_terms == 1:\n",
    "    #     return get_value(terms[0])\n",
    "\n",
    "    # return get_operation_generator(num_terms)(*terms)\n",
    "\n",
    "    for operator in OPERATOR_MAP:\n",
    "        if operator in raw_expression:\n",
    "            break\n",
    "        return build_print_operation(raw_expression.strip())\n",
    "    return parse(raw_expression).body[0]\n",
    "\n",
    "\n",
    "def build_ast(raw_expression: str) -> None:\n",
    "    lines = raw_expression.split(\"\\n\")\n",
    "    expressions = [get_line_expression(line) for line in lines if is_valid_line(line)]\n",
    "    module = Module(body=expressions, type_ignores=[])\n",
    "    print(dump(module))\n",
    "\n",
    "    fix_missing_locations(module)\n",
    "    code = compile(module, '<string>', mode='exec')\n",
    "    exec(code)\n",
    "        "
   ]
  },
  {
   "attachments": {},
   "cell_type": "markdown",
   "metadata": {},
   "source": [
    "### Demonstration"
   ]
  },
  {
   "cell_type": "code",
   "execution_count": 8,
   "metadata": {},
   "outputs": [],
   "source": [
    "formula = \"\"\"\n",
    "a=23\n",
    "b=1\n",
    "c=b\n",
    "d=a+b+c\n",
    "d\n",
    "\"\"\""
   ]
  },
  {
   "cell_type": "code",
   "execution_count": 9,
   "metadata": {},
   "outputs": [
    {
     "name": "stdout",
     "output_type": "stream",
     "text": [
      "Module(body=[Assign(targets=[Name(id='a', ctx=Store())], value=Constant(value=23)), Assign(targets=[Name(id='b', ctx=Store())], value=Constant(value=1)), Assign(targets=[Name(id='c', ctx=Store())], value=Name(id='b', ctx=Load())), Assign(targets=[Name(id='d', ctx=Store())], value=BinOp(left=BinOp(left=Name(id='a', ctx=Load()), op=Add(), right=Name(id='b', ctx=Load())), op=Add(), right=Name(id='c', ctx=Load()))), Expr(value=Call(func=Name(id='print', ctx=Load()), args=[Name(id='d', ctx=Load())], keywords=[]))], type_ignores=[])\n",
      "25\n"
     ]
    }
   ],
   "source": [
    "build_ast(formula)"
   ]
  }
 ],
 "metadata": {
  "kernelspec": {
   "display_name": "python-ast-GFe5FY-d-py3.11",
   "language": "python",
   "name": "python3"
  },
  "language_info": {
   "codemirror_mode": {
    "name": "ipython",
    "version": 3
   },
   "file_extension": ".py",
   "mimetype": "text/x-python",
   "name": "python",
   "nbconvert_exporter": "python",
   "pygments_lexer": "ipython3",
   "version": "3.11.4"
  },
  "orig_nbformat": 4
 },
 "nbformat": 4,
 "nbformat_minor": 2
}
